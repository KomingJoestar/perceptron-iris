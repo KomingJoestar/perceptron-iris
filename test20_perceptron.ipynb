{
 "cells": [
  {
   "cell_type": "markdown",
   "metadata": {},
   "source": [
    "# 原始感知及算法实现"
   ]
  },
  {
   "cell_type": "code",
   "execution_count": 1,
   "metadata": {
    "collapsed": true
   },
   "outputs": [],
   "source": [
    "import numpy as np\n",
    "import pandas as pd"
   ]
  },
  {
   "cell_type": "code",
   "execution_count": 88,
   "metadata": {},
   "outputs": [
    {
     "data": {
      "text/html": [
       "<div>\n",
       "<style scoped>\n",
       "    .dataframe tbody tr th:only-of-type {\n",
       "        vertical-align: middle;\n",
       "    }\n",
       "\n",
       "    .dataframe tbody tr th {\n",
       "        vertical-align: top;\n",
       "    }\n",
       "\n",
       "    .dataframe thead th {\n",
       "        text-align: right;\n",
       "    }\n",
       "</style>\n",
       "<table border=\"1\" class=\"dataframe\">\n",
       "  <thead>\n",
       "    <tr style=\"text-align: right;\">\n",
       "      <th></th>\n",
       "      <th>Sepal Length</th>\n",
       "      <th>Sepal Width</th>\n",
       "      <th>Petal Length</th>\n",
       "      <th>Petal Width</th>\n",
       "      <th>Species</th>\n",
       "    </tr>\n",
       "  </thead>\n",
       "  <tbody>\n",
       "    <tr>\n",
       "      <th>0</th>\n",
       "      <td>6.4</td>\n",
       "      <td>2.8</td>\n",
       "      <td>5.6</td>\n",
       "      <td>2.2</td>\n",
       "      <td>2</td>\n",
       "    </tr>\n",
       "    <tr>\n",
       "      <th>1</th>\n",
       "      <td>5.0</td>\n",
       "      <td>2.3</td>\n",
       "      <td>3.3</td>\n",
       "      <td>1.0</td>\n",
       "      <td>1</td>\n",
       "    </tr>\n",
       "    <tr>\n",
       "      <th>2</th>\n",
       "      <td>4.9</td>\n",
       "      <td>2.5</td>\n",
       "      <td>4.5</td>\n",
       "      <td>1.7</td>\n",
       "      <td>2</td>\n",
       "    </tr>\n",
       "    <tr>\n",
       "      <th>3</th>\n",
       "      <td>4.9</td>\n",
       "      <td>3.1</td>\n",
       "      <td>1.5</td>\n",
       "      <td>0.1</td>\n",
       "      <td>0</td>\n",
       "    </tr>\n",
       "    <tr>\n",
       "      <th>4</th>\n",
       "      <td>5.7</td>\n",
       "      <td>3.8</td>\n",
       "      <td>1.7</td>\n",
       "      <td>0.3</td>\n",
       "      <td>0</td>\n",
       "    </tr>\n",
       "    <tr>\n",
       "      <th>...</th>\n",
       "      <td>...</td>\n",
       "      <td>...</td>\n",
       "      <td>...</td>\n",
       "      <td>...</td>\n",
       "      <td>...</td>\n",
       "    </tr>\n",
       "    <tr>\n",
       "      <th>145</th>\n",
       "      <td>6.1</td>\n",
       "      <td>3.0</td>\n",
       "      <td>4.6</td>\n",
       "      <td>1.4</td>\n",
       "      <td>1</td>\n",
       "    </tr>\n",
       "    <tr>\n",
       "      <th>146</th>\n",
       "      <td>5.2</td>\n",
       "      <td>4.1</td>\n",
       "      <td>1.5</td>\n",
       "      <td>0.1</td>\n",
       "      <td>0</td>\n",
       "    </tr>\n",
       "    <tr>\n",
       "      <th>147</th>\n",
       "      <td>6.7</td>\n",
       "      <td>3.1</td>\n",
       "      <td>4.7</td>\n",
       "      <td>1.5</td>\n",
       "      <td>1</td>\n",
       "    </tr>\n",
       "    <tr>\n",
       "      <th>148</th>\n",
       "      <td>6.7</td>\n",
       "      <td>3.3</td>\n",
       "      <td>5.7</td>\n",
       "      <td>2.5</td>\n",
       "      <td>2</td>\n",
       "    </tr>\n",
       "    <tr>\n",
       "      <th>149</th>\n",
       "      <td>6.4</td>\n",
       "      <td>2.9</td>\n",
       "      <td>4.3</td>\n",
       "      <td>1.3</td>\n",
       "      <td>1</td>\n",
       "    </tr>\n",
       "  </tbody>\n",
       "</table>\n",
       "<p>150 rows × 5 columns</p>\n",
       "</div>"
      ],
      "text/plain": [
       "     Sepal Length  Sepal Width  Petal Length  Petal Width  Species\n",
       "0             6.4          2.8           5.6          2.2        2\n",
       "1             5.0          2.3           3.3          1.0        1\n",
       "2             4.9          2.5           4.5          1.7        2\n",
       "3             4.9          3.1           1.5          0.1        0\n",
       "4             5.7          3.8           1.7          0.3        0\n",
       "..            ...          ...           ...          ...      ...\n",
       "145           6.1          3.0           4.6          1.4        1\n",
       "146           5.2          4.1           1.5          0.1        0\n",
       "147           6.7          3.1           4.7          1.5        1\n",
       "148           6.7          3.3           5.7          2.5        2\n",
       "149           6.4          2.9           4.3          1.3        1\n",
       "\n",
       "[150 rows x 5 columns]"
      ]
     },
     "execution_count": 88,
     "metadata": {},
     "output_type": "execute_result"
    }
   ],
   "source": [
    "iris = pd.read_csv(\"iris.csv\")\n",
    "iris"
   ]
  },
  {
   "cell_type": "code",
   "execution_count": 89,
   "metadata": {},
   "outputs": [
    {
     "data": {
      "text/html": [
       "<div>\n",
       "<style scoped>\n",
       "    .dataframe tbody tr th:only-of-type {\n",
       "        vertical-align: middle;\n",
       "    }\n",
       "\n",
       "    .dataframe tbody tr th {\n",
       "        vertical-align: top;\n",
       "    }\n",
       "\n",
       "    .dataframe thead th {\n",
       "        text-align: right;\n",
       "    }\n",
       "</style>\n",
       "<table border=\"1\" class=\"dataframe\">\n",
       "  <thead>\n",
       "    <tr style=\"text-align: right;\">\n",
       "      <th></th>\n",
       "      <th>Sepal Length</th>\n",
       "      <th>Sepal Width</th>\n",
       "      <th>Species</th>\n",
       "    </tr>\n",
       "  </thead>\n",
       "  <tbody>\n",
       "    <tr>\n",
       "      <th>1</th>\n",
       "      <td>5.0</td>\n",
       "      <td>2.3</td>\n",
       "      <td>1</td>\n",
       "    </tr>\n",
       "    <tr>\n",
       "      <th>3</th>\n",
       "      <td>4.9</td>\n",
       "      <td>3.1</td>\n",
       "      <td>-1</td>\n",
       "    </tr>\n",
       "    <tr>\n",
       "      <th>4</th>\n",
       "      <td>5.7</td>\n",
       "      <td>3.8</td>\n",
       "      <td>-1</td>\n",
       "    </tr>\n",
       "    <tr>\n",
       "      <th>5</th>\n",
       "      <td>4.4</td>\n",
       "      <td>3.2</td>\n",
       "      <td>-1</td>\n",
       "    </tr>\n",
       "    <tr>\n",
       "      <th>6</th>\n",
       "      <td>5.4</td>\n",
       "      <td>3.4</td>\n",
       "      <td>-1</td>\n",
       "    </tr>\n",
       "    <tr>\n",
       "      <th>...</th>\n",
       "      <td>...</td>\n",
       "      <td>...</td>\n",
       "      <td>...</td>\n",
       "    </tr>\n",
       "    <tr>\n",
       "      <th>144</th>\n",
       "      <td>5.8</td>\n",
       "      <td>2.7</td>\n",
       "      <td>1</td>\n",
       "    </tr>\n",
       "    <tr>\n",
       "      <th>145</th>\n",
       "      <td>6.1</td>\n",
       "      <td>3.0</td>\n",
       "      <td>1</td>\n",
       "    </tr>\n",
       "    <tr>\n",
       "      <th>146</th>\n",
       "      <td>5.2</td>\n",
       "      <td>4.1</td>\n",
       "      <td>-1</td>\n",
       "    </tr>\n",
       "    <tr>\n",
       "      <th>147</th>\n",
       "      <td>6.7</td>\n",
       "      <td>3.1</td>\n",
       "      <td>1</td>\n",
       "    </tr>\n",
       "    <tr>\n",
       "      <th>149</th>\n",
       "      <td>6.4</td>\n",
       "      <td>2.9</td>\n",
       "      <td>1</td>\n",
       "    </tr>\n",
       "  </tbody>\n",
       "</table>\n",
       "<p>100 rows × 3 columns</p>\n",
       "</div>"
      ],
      "text/plain": [
       "     Sepal Length  Sepal Width  Species\n",
       "1             5.0          2.3        1\n",
       "3             4.9          3.1       -1\n",
       "4             5.7          3.8       -1\n",
       "5             4.4          3.2       -1\n",
       "6             5.4          3.4       -1\n",
       "..            ...          ...      ...\n",
       "144           5.8          2.7        1\n",
       "145           6.1          3.0        1\n",
       "146           5.2          4.1       -1\n",
       "147           6.7          3.1        1\n",
       "149           6.4          2.9        1\n",
       "\n",
       "[100 rows x 3 columns]"
      ]
     },
     "execution_count": 89,
     "metadata": {},
     "output_type": "execute_result"
    }
   ],
   "source": [
    "#只选取两种标签，替换为1和-1；为了画图，只选取两个特征\n",
    "iris = iris.drop(iris[iris['Species'] == 2].index, axis=0)\n",
    "iris = iris.replace(0, -1)\n",
    "iris = iris.drop(columns=['Petal Length', 'Petal Width'])\n",
    "iris"
   ]
  },
  {
   "cell_type": "code",
   "execution_count": 105,
   "metadata": {
    "scrolled": true
   },
   "outputs": [
    {
     "data": {
      "text/plain": [
       "array([[ 5. ,  2.3,  1. ],\n",
       "       [ 4.9,  3.1, -1. ],\n",
       "       [ 5.7,  3.8, -1. ],\n",
       "       [ 4.4,  3.2, -1. ],\n",
       "       [ 5.4,  3.4, -1. ],\n",
       "       [ 6.7,  3.1,  1. ],\n",
       "       [ 5.1,  3.7, -1. ],\n",
       "       [ 5.2,  2.7,  1. ],\n",
       "       [ 6.9,  3.1,  1. ],\n",
       "       [ 5.8,  4. , -1. ]])"
      ]
     },
     "execution_count": 105,
     "metadata": {},
     "output_type": "execute_result"
    }
   ],
   "source": [
    "#获取训练集X、y\n",
    "data = np.array(iris)\n",
    "X, y = data[:, :-1], data[:, -1]\n",
    "data[:10]"
   ]
  },
  {
   "cell_type": "code",
   "execution_count": 118,
   "metadata": {},
   "outputs": [],
   "source": [
    "# 初始化w、b、η\n",
    "w = np.ones(len(data[0]) - 1, dtype = np.float32)\n",
    "b = 0\n",
    "η = 0.1"
   ]
  },
  {
   "cell_type": "code",
   "execution_count": 119,
   "metadata": {},
   "outputs": [
    {
     "name": "stdout",
     "output_type": "stream",
     "text": [
      "第100次迭代：w = [ 1.4 -2.2], b = -0.10000000000000003\n",
      "第200次迭代：w = [ 2.85 -4.19], b = -0.10000000000000003\n",
      "第300次迭代：w = [ 3.29 -6.34], b = -0.30000000000000004\n",
      "第400次迭代：w = [ 4.35 -7.04], b = -0.7\n",
      "第500次迭代：w = [ 5.02 -7.64], b = -1.0999999999999999\n",
      "第600次迭代：w = [ 4.94 -9.46], b = -1.3\n",
      "第700次迭代：w = [ 5.43 -9.92], b = -1.7000000000000004\n",
      "第800次迭代：w = [ 5.82 -9.72], b = -2.3000000000000007\n",
      "第900次迭代：w = [ 6.1  -9.66], b = -2.9000000000000012\n",
      "第1000次迭代：w = [ 6.53 -9.39], b = -3.5000000000000018\n",
      "第1100次迭代：w = [ 5.8 -9.9], b = -4.300000000000001\n",
      "第1200次迭代：w = [ 6.01 -9.92], b = -4.899999999999999\n",
      "第1300次迭代：w = [ 6.31 -9.83], b = -5.4999999999999964\n",
      "第1400次迭代：w = [ 6.74 -9.54], b = -6.099999999999994\n",
      "第1500次迭代：w = [ 7.02 -9.38], b = -6.699999999999992\n",
      "第1600次迭代：w = [ 7.21 -9.33], b = -7.29999999999999\n",
      "第1700次迭代：w = [ 6.48 -9.73], b = -8.099999999999987\n",
      "第1800次迭代：w = [ 6.3  -9.38], b = -8.899999999999984\n",
      "第1900次迭代：w = [ 7.34 -8.86], b = -9.299999999999983\n",
      "第2000次迭代：w = [ 7.04 -9.27], b = -9.89999999999998\n",
      "第2100次迭代：w = [ 6.88 -9.52], b = -10.499999999999979\n",
      "第2200次迭代：w = [ 7.18 -9.23], b = -11.099999999999977\n",
      "第2300次迭代：w = [ 7.87 -9.11], b = -11.499999999999975\n",
      "第2388次迭代：w = [ 7.48 -9.39], b = -12.099999999999973\n"
     ]
    }
   ],
   "source": [
    "count = 0\n",
    "while True:\n",
    "    flag = 0 #标记是否有误分类点\n",
    "    count += 1\n",
    "    if (count / 100) == round(count / 100):\n",
    "        print('第' + str(count) + '次迭代：' + 'w = ' + str(w) + ', b = ' + str(b))\n",
    "    for i in range(len(data)):\n",
    "        if y[i] * (np.inner(w, X[i]) + b) <= 0:\n",
    "            w = w + η * np.dot(y[i], X[i])\n",
    "            b = b + η * y[i]\n",
    "            flag = 1\n",
    "            break\n",
    "    \n",
    "    if flag == 0:\n",
    "        break\n",
    "print('第' + str(count) + '次迭代：' + 'w = ' + str(w) + ', b = ' + str(b))"
   ]
  },
  {
   "cell_type": "code",
   "execution_count": 93,
   "metadata": {},
   "outputs": [
    {
     "name": "stderr",
     "output_type": "stream",
     "text": [
      "No handles with labels found to put in legend.\n"
     ]
    },
    {
     "data": {
      "image/png": "[encoded data removed]",
      "text/plain": [
       "<Figure size 432x288 with 1 Axes>"
      ]
     },
     "metadata": {},
     "output_type": "display_data"
    }
   ],
   "source": [
    "import matplotlib.pyplot as plt\n",
    "import warnings\n",
    "warnings.filterwarnings(\"ignore\")\n",
    "x_ = np.linspace(4, 7, 10)\n",
    "y_ = -(w[0] * x_ + b) / w[1]\n",
    "# 画出这条直线\n",
    "plt.plot(x_, y_)\n",
    "# 画出数据集的散点图\n",
    "for i in data:\n",
    "    if i[-1] == 1:\n",
    "        plt.plot(i[0], i[1], 'bo', c = 'lime')\n",
    "    else:\n",
    "        plt.plot(i[0], i[1], 'bo', c = 'orange')\n",
    "\n",
    "plt.xlabel('sepal length')\n",
    "plt.ylabel('sepal width')\n",
    "plt.legend()\n",
    "plt.show()"
   ]
  },
  {
   "cell_type": "markdown",
   "metadata": {},
   "source": [
    "# 调用sklearn的Perceptron模块"
   ]
  },
  {
   "cell_type": "code",
   "execution_count": 94,
   "metadata": {
    "collapsed": true
   },
   "outputs": [],
   "source": [
    "from sklearn.linear_model import Perceptron"
   ]
  },
  {
   "cell_type": "code",
   "execution_count": 95,
   "metadata": {},
   "outputs": [
    {
     "name": "stdout",
     "output_type": "stream",
     "text": [
      "w = [[ 7.07 -8.84]], b = [-11.5]\n"
     ]
    }
   ],
   "source": [
    "clf = Perceptron(fit_intercept=True, max_iter=1000, tol=None, shuffle=False, eta0 = 0.1)\n",
    "clf.fit(X, y)\n",
    "# 输出参数w, b\n",
    "print('w = ' + str(clf.coef_) + ', b = ' + str(clf.intercept_))"
   ]
  },
  {
   "cell_type": "code",
   "execution_count": 96,
   "metadata": {},
   "outputs": [
    {
     "name": "stderr",
     "output_type": "stream",
     "text": [
      "No handles with labels found to put in legend.\n"
     ]
    },
    {
     "data": {
      "image/png": "[encoded data removed]",
      "text/plain": [
       "<Figure size 432x288 with 1 Axes>"
      ]
     },
     "metadata": {},
     "output_type": "display_data"
    }
   ],
   "source": [
    "x_ = np.linspace(4, 7, 10)\n",
    "y_ = -(w[0] * x_ + b) / w[1]\n",
    "# 画出这条直线\n",
    "plt.plot(x_, y_)\n",
    "# 画出数据集的散点图\n",
    "for i in data:\n",
    "    if i[-1] == 1:\n",
    "        plt.plot(i[0], i[1], 'bo', c = 'lime')\n",
    "    else:\n",
    "        plt.plot(i[0], i[1], 'bo', c = 'orange')\n",
    "\n",
    "plt.xlabel('sepal length')\n",
    "plt.ylabel('sepal width')\n",
    "plt.legend()\n",
    "plt.show()"
   ]
  },
  {
   "cell_type": "code",
   "execution_count": null,
   "metadata": {
    "collapsed": true
   },
   "outputs": [],
   "source": []
  }
 ],
 "metadata": {
  "kernelspec": {
   "display_name": "Python 3",
   "language": "python",
   "name": "python3"
  },
  "language_info": {
   "codemirror_mode": {
    "name": "ipython",
    "version": 3
   },
   "file_extension": ".py",
   "mimetype": "text/x-python",
   "name": "python",
   "nbconvert_exporter": "python",
   "pygments_lexer": "ipython3",
   "version": "3.6.3"
  }
 },
 "nbformat": 4,
 "nbformat_minor": 2
}
